{
  "nbformat": 4,
  "nbformat_minor": 0,
  "metadata": {
    "colab": {
      "name": "Untitled0.ipynb",
      "provenance": [],
      "mount_file_id": "https://github.com/PascalLiPooKim/Football-prediction-model-project/blob/main/footballPredictionModel.ipynb",
      "authorship_tag": "ABX9TyPsUUXYqBAReDVaN+e6sHNt",
      "include_colab_link": true
    },
    "kernelspec": {
      "name": "python3",
      "display_name": "Python 3"
    },
    "language_info": {
      "name": "python"
    }
  },
  "cells": [
    {
      "cell_type": "markdown",
      "metadata": {
        "id": "view-in-github",
        "colab_type": "text"
      },
      "source": [
        "<a href=\"https://colab.research.google.com/github/PascalLiPooKim/Football-prediction-model-project/blob/data-wrangling/footballPredictionModel.ipynb\" target=\"_parent\"><img src=\"https://colab.research.google.com/assets/colab-badge.svg\" alt=\"Open In Colab\"/></a>"
      ]
    },
    {
      "cell_type": "code",
      "execution_count": 11,
      "metadata": {
        "id": "lwREM0lGWREQ"
      },
      "outputs": [],
      "source": [
        "import pandas as pd\n",
        "import missingno as msn"
      ]
    },
    {
      "cell_type": "markdown",
      "source": [
        "# Team Info"
      ],
      "metadata": {
        "id": "z38kI3POqhne"
      }
    },
    {
      "cell_type": "code",
      "source": [
        "team_info_df = pd.read_csv('https://raw.githubusercontent.com/PascalLiPooKim/Football-prediction-model-project/data-wrangling/Football_Data/Football_Data/Team_Info.csv')\n",
        "team_info_df.head()"
      ],
      "metadata": {
        "colab": {
          "base_uri": "https://localhost:8080/",
          "height": 206
        },
        "id": "31QInBtHjSs_",
        "outputId": "c3dcaa9e-4666-41a2-986c-d0999b81f1c8"
      },
      "execution_count": 12,
      "outputs": [
        {
          "output_type": "execute_result",
          "data": {
            "text/html": [
              "<div>\n",
              "<style scoped>\n",
              "    .dataframe tbody tr th:only-of-type {\n",
              "        vertical-align: middle;\n",
              "    }\n",
              "\n",
              "    .dataframe tbody tr th {\n",
              "        vertical-align: top;\n",
              "    }\n",
              "\n",
              "    .dataframe thead th {\n",
              "        text-align: right;\n",
              "    }\n",
              "</style>\n",
              "<table border=\"1\" class=\"dataframe\">\n",
              "  <thead>\n",
              "    <tr style=\"text-align: right;\">\n",
              "      <th></th>\n",
              "      <th>Team</th>\n",
              "      <th>City</th>\n",
              "      <th>Country</th>\n",
              "      <th>Stadium</th>\n",
              "      <th>Capacity</th>\n",
              "      <th>Pitch</th>\n",
              "    </tr>\n",
              "  </thead>\n",
              "  <tbody>\n",
              "    <tr>\n",
              "      <th>0</th>\n",
              "      <td>Wattenscheid 09</td>\n",
              "      <td>Bochum-Wattenscheid</td>\n",
              "      <td>Germany</td>\n",
              "      <td>Lohrheidestadion</td>\n",
              "      <td>16233</td>\n",
              "      <td>Natural</td>\n",
              "    </tr>\n",
              "    <tr>\n",
              "      <th>1</th>\n",
              "      <td>Hertha BSC</td>\n",
              "      <td>Berlín</td>\n",
              "      <td>Germany</td>\n",
              "      <td>Olympiastadion Berlin</td>\n",
              "      <td>76065</td>\n",
              "      <td>Natural</td>\n",
              "    </tr>\n",
              "    <tr>\n",
              "      <th>2</th>\n",
              "      <td>Unterhaching</td>\n",
              "      <td>Unterhaching</td>\n",
              "      <td>Germany</td>\n",
              "      <td>Sportpark Unterhaching</td>\n",
              "      <td>15053</td>\n",
              "      <td>Natural</td>\n",
              "    </tr>\n",
              "    <tr>\n",
              "      <th>3</th>\n",
              "      <td>Fortuna Köln</td>\n",
              "      <td>Cologne</td>\n",
              "      <td>Germany</td>\n",
              "      <td>Südstadion</td>\n",
              "      <td>14944</td>\n",
              "      <td>Natural</td>\n",
              "    </tr>\n",
              "    <tr>\n",
              "      <th>4</th>\n",
              "      <td>MSV Duisburg</td>\n",
              "      <td>Duisburgo</td>\n",
              "      <td>Germany</td>\n",
              "      <td>Schauinsland-Reisen-Arena</td>\n",
              "      <td>31514</td>\n",
              "      <td>Natural</td>\n",
              "    </tr>\n",
              "  </tbody>\n",
              "</table>\n",
              "</div>"
            ],
            "text/plain": [
              "              Team                 City  ... Capacity    Pitch\n",
              "0  Wattenscheid 09  Bochum-Wattenscheid  ...    16233  Natural\n",
              "1       Hertha BSC               Berlín  ...    76065  Natural\n",
              "2     Unterhaching         Unterhaching  ...    15053  Natural\n",
              "3     Fortuna Köln              Cologne  ...    14944  Natural\n",
              "4     MSV Duisburg            Duisburgo  ...    31514  Natural\n",
              "\n",
              "[5 rows x 6 columns]"
            ]
          },
          "metadata": {},
          "execution_count": 12
        }
      ]
    },
    {
      "cell_type": "code",
      "source": [
        "team_info_df.info()"
      ],
      "metadata": {
        "colab": {
          "base_uri": "https://localhost:8080/"
        },
        "id": "9mKRRQL5lOpM",
        "outputId": "7e789392-862c-4ec3-fef9-ee31af64c3e5"
      },
      "execution_count": 13,
      "outputs": [
        {
          "output_type": "stream",
          "name": "stdout",
          "text": [
            "<class 'pandas.core.frame.DataFrame'>\n",
            "RangeIndex: 544 entries, 0 to 543\n",
            "Data columns (total 6 columns):\n",
            " #   Column    Non-Null Count  Dtype \n",
            "---  ------    --------------  ----- \n",
            " 0   Team      544 non-null    object\n",
            " 1   City      544 non-null    object\n",
            " 2   Country   544 non-null    object\n",
            " 3   Stadium   447 non-null    object\n",
            " 4   Capacity  544 non-null    object\n",
            " 5   Pitch     447 non-null    object\n",
            "dtypes: object(6)\n",
            "memory usage: 25.6+ KB\n"
          ]
        }
      ]
    },
    {
      "cell_type": "code",
      "source": [
        "msn.matrix(team_info_df)"
      ],
      "metadata": {
        "colab": {
          "base_uri": "https://localhost:8080/",
          "height": 458
        },
        "id": "O5glFzlLlTxc",
        "outputId": "077ac83b-14a8-43eb-ecb2-a3397b7c9119"
      },
      "execution_count": 14,
      "outputs": [
        {
          "output_type": "execute_result",
          "data": {
            "text/plain": [
              "<matplotlib.axes._subplots.AxesSubplot at 0x7fd5b9716ad0>"
            ]
          },
          "metadata": {},
          "execution_count": 14
        },
        {
          "output_type": "display_data",
          "data": {
            "image/png": "[encoded data removed]",
            "text/plain": [
              "<Figure size 1800x720 with 2 Axes>"
            ]
          },
          "metadata": {
            "needs_background": "light"
          }
        }
      ]
    },
    {
      "cell_type": "code",
      "source": [
        "team_info_df.isnull().sum()/len(team_info_df)"
      ],
      "metadata": {
        "colab": {
          "base_uri": "https://localhost:8080/"
        },
        "id": "pN343hWslc3r",
        "outputId": "e4696826-d492-4194-a2f7-2ae51fe6f6a2"
      },
      "execution_count": 23,
      "outputs": [
        {
          "output_type": "execute_result",
          "data": {
            "text/plain": [
              "Team        0.000000\n",
              "City        0.000000\n",
              "Country     0.000000\n",
              "Stadium     0.178309\n",
              "Capacity    0.000000\n",
              "Pitch       0.178309\n",
              "dtype: float64"
            ]
          },
          "metadata": {},
          "execution_count": 23
        }
      ]
    },
    {
      "cell_type": "code",
      "source": [
        "team_info_cols_with_null = ['Stadium', 'Pitch']\n",
        "for col in team_info_cols_with_null:\n",
        "  team_info_df[col] = team_info_df[col].astype('category')\n",
        "  print(team_info_df[col].value_counts())\n",
        "  print(team_info_df[col].unique())\n",
        "  print(team_info_df[team_info_df[col].isnull()])"
      ],
      "metadata": {
        "colab": {
          "base_uri": "https://localhost:8080/"
        },
        "id": "STup4q43mGGr",
        "outputId": "a4a7a931-054b-4aca-8129-062939f648b1"
      },
      "execution_count": 34,
      "outputs": [
        {
          "output_type": "stream",
          "name": "stdout",
          "text": [
            "Stadio Città del Tricolore                2\n",
            "Stadio Marc'Antonio Bentegodi             2\n",
            "Stadio Atleti Azzurri d'Italia            2\n",
            "Cartagonova                               2\n",
            "Cerro del Espino                          2\n",
            "                                         ..\n",
            "Stade Muncipal de Péronnas                1\n",
            "Stade Municipal Ange Casanova Stiletto    1\n",
            "Stade Océane                              1\n",
            "Stade Parsemain                           1\n",
            "A Malata                                  1\n",
            "Name: Stadium, Length: 442, dtype: int64\n",
            "['Lohrheidestadion', 'Olympiastadion Berlin', 'Sportpark Unterhaching', 'Südstadion', 'Schauinsland-Reisen-Arena', ..., 'Stadio Silvio Piola', 'Stadio Polisportivo Provinciale', 'Stadio Comunale Domenico Francioni', 'Stadio Comunale Chiavari', 'Stadio San Vito']\n",
            "Length: 443\n",
            "Categories (442, object): ['Lohrheidestadion', 'Olympiastadion Berlin', 'Sportpark Unterhaching',\n",
            "                           'Südstadion', ..., 'Stadio Polisportivo Provinciale',\n",
            "                           'Stadio Comunale Domenico Francioni', 'Stadio Comunale Chiavari', 'Stadio San Vito']\n",
            "                  Team       City  Country Stadium Capacity       Pitch\n",
            "7        Hessen Kassel     Hessen  Germany     NaN   18,737       grass\n",
            "10   Blau-Weiß 1890 B.     Berlin  Germany     NaN     3000         NaN\n",
            "19      Bayreuth SpVgg   Bayreuth  Germany     NaN    21500         NaN\n",
            "20    Waldhof Mannheim   Mannheim  Germany     NaN   25,667         NaN\n",
            "21       FC 08 Homburg    Homburg  Germany     NaN   16,488         NaN\n",
            "..                 ...        ...      ...     ...      ...         ...\n",
            "530         Gallipoli   Gallipoli    Italy     NaN     5000  Artificial\n",
            "531             Calcio     Foggia    Italy     NaN    16000         NaN\n",
            "537    Virtus Lanciano   Lanciano    Italy     NaN    5,639       Grass\n",
            "542          Pordenone  Pordenone    Italy     NaN     3089         NaN\n",
            "543         Bourges 18    Bourges   France     NaN   13,000         NaN\n",
            "\n",
            "[97 rows x 6 columns]\n",
            "Natural              353\n",
            "Grass                 30\n",
            "Césped natural        21\n",
            "Césped Artificial     16\n",
            "grass                  8\n",
            "Césped Natural         6\n",
            "natural                2\n",
            "Césped                 2\n",
            "Artificial             2\n",
            "natural grass          1\n",
            "cesped real            1\n",
            "cesped natural         1\n",
            "Natural grass          1\n",
            "NATURAL                1\n",
            "Cesped natural         1\n",
            "AirFibr                1\n",
            "Name: Pitch, dtype: int64\n",
            "['Natural', 'grass', 'Césped', NaN, 'cesped natural', ..., 'Cesped natural', 'Césped natural', 'natural grass', 'Artificial', 'natural']\n",
            "Length: 17\n",
            "Categories (16, object): ['Natural', 'grass', 'Césped', 'cesped natural', ..., 'Césped natural',\n",
            "                          'natural grass', 'Artificial', 'natural']\n",
            "                  Team         City  Country Stadium Capacity Pitch\n",
            "10   Blau-Weiß 1890 B.       Berlin  Germany     NaN     3000   NaN\n",
            "19      Bayreuth SpVgg     Bayreuth  Germany     NaN    21500   NaN\n",
            "20    Waldhof Mannheim     Mannheim  Germany     NaN   25,667   NaN\n",
            "21       FC 08 Homburg      Homburg  Germany     NaN   16,488   NaN\n",
            "25         Schweinfurt  Schweinfurt  Germany     NaN    15060   NaN\n",
            "..                 ...          ...      ...     ...      ...   ...\n",
            "520     FC Savoia 1908       Savoia    Italy     NaN    12750   NaN\n",
            "521            Fermana      Fermana    Italy     NaN     8850   NaN\n",
            "531             Calcio       Foggia    Italy     NaN    16000   NaN\n",
            "542          Pordenone    Pordenone    Italy     NaN     3089   NaN\n",
            "543         Bourges 18      Bourges   France     NaN   13,000   NaN\n",
            "\n",
            "[97 rows x 6 columns]\n"
          ]
        }
      ]
    },
    {
      "cell_type": "markdown",
      "source": [
        "# Match Info"
      ],
      "metadata": {
        "id": "41a1L2OLqoiL"
      }
    },
    {
      "cell_type": "code",
      "source": [
        "match_info_df = pd.read_csv('https://raw.githubusercontent.com/PascalLiPooKim/Football-prediction-model-project/data-wrangling/Football_Data/Football_Data/Match_Info.csv')\n",
        "match_info_df.head()"
      ],
      "metadata": {
        "colab": {
          "base_uri": "https://localhost:8080/",
          "height": 293
        },
        "id": "Ck_sDYbemc_K",
        "outputId": "27e200af-7024-4748-df0f-1d1fdb89413f"
      },
      "execution_count": 35,
      "outputs": [
        {
          "output_type": "execute_result",
          "data": {
            "text/html": [
              "<div>\n",
              "<style scoped>\n",
              "    .dataframe tbody tr th:only-of-type {\n",
              "        vertical-align: middle;\n",
              "    }\n",
              "\n",
              "    .dataframe tbody tr th {\n",
              "        vertical-align: top;\n",
              "    }\n",
              "\n",
              "    .dataframe thead th {\n",
              "        text-align: right;\n",
              "    }\n",
              "</style>\n",
              "<table border=\"1\" class=\"dataframe\">\n",
              "  <thead>\n",
              "    <tr style=\"text-align: right;\">\n",
              "      <th></th>\n",
              "      <th>Link</th>\n",
              "      <th>Date_New</th>\n",
              "      <th>Referee</th>\n",
              "      <th>Home_Yellow</th>\n",
              "      <th>Home_Red</th>\n",
              "      <th>Away_Yellow</th>\n",
              "      <th>Away_Red</th>\n",
              "    </tr>\n",
              "  </thead>\n",
              "  <tbody>\n",
              "    <tr>\n",
              "      <th>0</th>\n",
              "      <td>/match/saarbrucken/stuttgarter-kickers/1990</td>\n",
              "      <td>Saturday, 29 July 1989, 15:00</td>\n",
              "      <td>\\nReferee: Hans-Jürgen Weber\\n</td>\n",
              "      <td>0.0</td>\n",
              "      <td>0.0</td>\n",
              "      <td>3.0</td>\n",
              "      <td>0.0</td>\n",
              "    </tr>\n",
              "    <tr>\n",
              "      <th>1</th>\n",
              "      <td>/match/sc-freiburg/unterhaching/1990</td>\n",
              "      <td>Saturday, 29 July 1989, 15:00</td>\n",
              "      <td>\\nReferee: Kurt Wittke\\n</td>\n",
              "      <td>1.0</td>\n",
              "      <td>0.0</td>\n",
              "      <td>0.0</td>\n",
              "      <td>0.0</td>\n",
              "    </tr>\n",
              "    <tr>\n",
              "      <th>2</th>\n",
              "      <td>/match/vfl-osnabruck/meppen/1990</td>\n",
              "      <td>Saturday, 29 July 1989, 15:00</td>\n",
              "      <td>\\nReferee: Werner Föckler\\n</td>\n",
              "      <td>3.0</td>\n",
              "      <td>0.0</td>\n",
              "      <td>2.0</td>\n",
              "      <td>0.0</td>\n",
              "    </tr>\n",
              "    <tr>\n",
              "      <th>3</th>\n",
              "      <td>/match/rot-weiss-essen/schalke-04/1990</td>\n",
              "      <td>Saturday, 29 July 1989, 15:00</td>\n",
              "      <td>\\nReferee: Heinz Werner\\n</td>\n",
              "      <td>2.0</td>\n",
              "      <td>0.0</td>\n",
              "      <td>2.0</td>\n",
              "      <td>0.0</td>\n",
              "    </tr>\n",
              "    <tr>\n",
              "      <th>4</th>\n",
              "      <td>/match/alemannia-aachen/msv-duisburg/1990</td>\n",
              "      <td>Saturday, 29 July 1989, 15:00</td>\n",
              "      <td>\\nReferee: Hans-Peter Dellwing\\n</td>\n",
              "      <td>1.0</td>\n",
              "      <td>0.0</td>\n",
              "      <td>1.0</td>\n",
              "      <td>0.0</td>\n",
              "    </tr>\n",
              "  </tbody>\n",
              "</table>\n",
              "</div>"
            ],
            "text/plain": [
              "                                          Link  ... Away_Red\n",
              "0  /match/saarbrucken/stuttgarter-kickers/1990  ...      0.0\n",
              "1         /match/sc-freiburg/unterhaching/1990  ...      0.0\n",
              "2             /match/vfl-osnabruck/meppen/1990  ...      0.0\n",
              "3       /match/rot-weiss-essen/schalke-04/1990  ...      0.0\n",
              "4    /match/alemannia-aachen/msv-duisburg/1990  ...      0.0\n",
              "\n",
              "[5 rows x 7 columns]"
            ]
          },
          "metadata": {},
          "execution_count": 35
        }
      ]
    },
    {
      "cell_type": "code",
      "source": [
        "match_info_df.info()"
      ],
      "metadata": {
        "colab": {
          "base_uri": "https://localhost:8080/"
        },
        "id": "Qfar9gsHqVFu",
        "outputId": "f0db5134-764a-4415-9c4f-cabee4ba3035"
      },
      "execution_count": 36,
      "outputs": [
        {
          "output_type": "stream",
          "name": "stdout",
          "text": [
            "<class 'pandas.core.frame.DataFrame'>\n",
            "RangeIndex: 143348 entries, 0 to 143347\n",
            "Data columns (total 7 columns):\n",
            " #   Column       Non-Null Count   Dtype  \n",
            "---  ------       --------------   -----  \n",
            " 0   Link         143348 non-null  object \n",
            " 1   Date_New     143348 non-null  object \n",
            " 2   Referee      143348 non-null  object \n",
            " 3   Home_Yellow  122798 non-null  float64\n",
            " 4   Home_Red     122798 non-null  float64\n",
            " 5   Away_Yellow  122798 non-null  float64\n",
            " 6   Away_Red     122798 non-null  float64\n",
            "dtypes: float64(4), object(3)\n",
            "memory usage: 7.7+ MB\n"
          ]
        }
      ]
    },
    {
      "cell_type": "code",
      "source": [
        "msn.matrix(match_info_df)"
      ],
      "metadata": {
        "colab": {
          "base_uri": "https://localhost:8080/",
          "height": 464
        },
        "id": "m7L5KBu8qdUG",
        "outputId": "9dd0ae8d-d70e-4846-c768-f8a2d497a617"
      },
      "execution_count": 37,
      "outputs": [
        {
          "output_type": "execute_result",
          "data": {
            "text/plain": [
              "<matplotlib.axes._subplots.AxesSubplot at 0x7fd5b85d3310>"
            ]
          },
          "metadata": {},
          "execution_count": 37
        },
        {
          "output_type": "display_data",
          "data": {
            "image/png": "[encoded data removed]",
            "text/plain": [
              "<Figure size 1800x720 with 2 Axes>"
            ]
          },
          "metadata": {
            "needs_background": "light"
          }
        }
      ]
    },
    {
      "cell_type": "code",
      "source": [
        "match_info_df.isnull().sum()/len(match_info_df)"
      ],
      "metadata": {
        "colab": {
          "base_uri": "https://localhost:8080/"
        },
        "id": "6Lq_EwBiq7j3",
        "outputId": "6d3ded48-99ec-443f-9b15-97abb11dcef1"
      },
      "execution_count": 38,
      "outputs": [
        {
          "output_type": "execute_result",
          "data": {
            "text/plain": [
              "Link           0.000000\n",
              "Date_New       0.000000\n",
              "Referee        0.000000\n",
              "Home_Yellow    0.143357\n",
              "Home_Red       0.143357\n",
              "Away_Yellow    0.143357\n",
              "Away_Red       0.143357\n",
              "dtype: float64"
            ]
          },
          "metadata": {},
          "execution_count": 38
        }
      ]
    },
    {
      "cell_type": "code",
      "source": [
        "match_info_df['Date_New\t'] = pd.to_datetime(match_info_df['Date_New'])\n",
        "match_info_df['Date_New\t']"
      ],
      "metadata": {
        "colab": {
          "base_uri": "https://localhost:8080/"
        },
        "id": "yHPPd68yrB82",
        "outputId": "13985a59-1ba4-4983-aa24-157a73fb0d12"
      },
      "execution_count": 41,
      "outputs": [
        {
          "output_type": "execute_result",
          "data": {
            "text/plain": [
              "0        1989-07-29 15:00:00\n",
              "1        1989-07-29 15:00:00\n",
              "2        1989-07-29 15:00:00\n",
              "3        1989-07-29 15:00:00\n",
              "4        1989-07-29 15:00:00\n",
              "                 ...        \n",
              "143343   1998-09-19 00:00:00\n",
              "143344   1994-05-17 00:00:00\n",
              "143345   1999-01-08 00:00:00\n",
              "143346   2021-02-27 19:00:00\n",
              "143347   1998-12-05 00:00:00\n",
              "Name: Date_New\\t, Length: 143348, dtype: datetime64[ns]"
            ]
          },
          "metadata": {},
          "execution_count": 41
        }
      ]
    },
    {
      "cell_type": "code",
      "source": [
        ""
      ],
      "metadata": {
        "id": "rBIEggSZr002"
      },
      "execution_count": null,
      "outputs": []
    }
  ]
}